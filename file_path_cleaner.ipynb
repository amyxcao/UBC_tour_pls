{
 "cells": [
  {
   "cell_type": "code",
   "execution_count": null,
   "metadata": {},
   "outputs": [],
   "source": [
    "import json\n",
    "import os\n",
    "\n",
    "def fix_json_image_paths(input_json_path, output_json_path=None):\n",
    "    \"\"\"\n",
    "    Recursively fixes image paths in any JSON structure by resolving backslashes and '../'.\n",
    "    \n",
    "    Args:\n",
    "        input_json_path (str): Path to the input JSON file.\n",
    "        output_json_path (str, optional): Where to save the fixed JSON.\n",
    "                                          Defaults to input name + '_v2.json'.\n",
    "    \"\"\"\n",
    "    if output_json_path is None:\n",
    "        base, ext = os.path.splitext(input_json_path)\n",
    "        output_json_path = f\"{base}_v2{ext}\"\n",
    "\n",
    "    # Load JSON\n",
    "    with open(input_json_path, \"r\", encoding=\"utf-8\") as f:\n",
    "        data = json.load(f)\n",
    "\n",
    "    def fix_img_path(path):\n",
    "        path = path.replace(\"\\\\\", \"/\")\n",
    "        norm_path = os.path.normpath(path).replace(\"\\\\\", \"/\")\n",
    "        if \"output/\" in norm_path:\n",
    "            return norm_path[norm_path.index(\"output/\"):]\n",
    "        return norm_path\n",
    "\n",
    "    def recursive_fix(obj):\n",
    "        if isinstance(obj, dict):\n",
    "            return {\n",
    "                k: fix_img_path(v) if k == \"img_path\" and isinstance(v, str)\n",
    "                else recursive_fix(v)\n",
    "                for k, v in obj.items()\n",
    "            }\n",
    "        elif isinstance(obj, list):\n",
    "            return [recursive_fix(item) for item in obj]\n",
    "        else:\n",
    "            return obj\n",
    "\n",
    "    # Recursively update all paths\n",
    "    fixed_data = recursive_fix(data)\n",
    "\n",
    "    # Save the fixed JSON\n",
    "    with open(output_json_path, \"w\", encoding=\"utf-8\") as f:\n",
    "        json.dump(fixed_data, f, indent=2)\n",
    "\n",
    "    print(f\"Fully fixed JSON saved to: {output_json_path}\")\n"
   ]
  },
  {
   "cell_type": "code",
   "execution_count": 2,
   "metadata": {},
   "outputs": [
    {
     "name": "stdout",
     "output_type": "stream",
     "text": [
      "✅ Fully fixed JSON saved to: output/Objectifying_China/preprocessed/en_contents_v2.json\n"
     ]
    }
   ],
   "source": [
    "fix_json_image_paths(\"output/Objectifying_China/preprocessed/en_contents.json\")"
   ]
  },
  {
   "cell_type": "code",
   "execution_count": 3,
   "metadata": {},
   "outputs": [
    {
     "name": "stdout",
     "output_type": "stream",
     "text": [
      "✅ Fully fixed JSON saved to: output/Pictorial_Silk/preprocessed/en_contents_v2.json\n"
     ]
    }
   ],
   "source": [
    "fix_json_image_paths(\"output/Pictorial_Silk/preprocessed/en_contents.json\")"
   ]
  },
  {
   "cell_type": "code",
   "execution_count": 4,
   "metadata": {},
   "outputs": [
    {
     "name": "stdout",
     "output_type": "stream",
     "text": [
      "✅ Fully fixed JSON saved to: output/Tradition to Contemporary/preprocessed/en_contents_v2.json\n"
     ]
    }
   ],
   "source": [
    "fix_json_image_paths(\"output/Tradition to Contemporary/preprocessed/en_contents.json\")"
   ]
  },
  {
   "cell_type": "code",
   "execution_count": null,
   "metadata": {},
   "outputs": [],
   "source": []
  }
 ],
 "metadata": {
  "kernelspec": {
   "display_name": "aiha",
   "language": "python",
   "name": "python3"
  },
  "language_info": {
   "codemirror_mode": {
    "name": "ipython",
    "version": 3
   },
   "file_extension": ".py",
   "mimetype": "text/x-python",
   "name": "python",
   "nbconvert_exporter": "python",
   "pygments_lexer": "ipython3",
   "version": "3.11.13"
  }
 },
 "nbformat": 4,
 "nbformat_minor": 2
}
