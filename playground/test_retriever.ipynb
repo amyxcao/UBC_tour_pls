{
 "cells": [
  {
   "cell_type": "code",
   "execution_count": 1,
   "id": "29d928c9",
   "metadata": {},
   "outputs": [
    {
     "name": "stderr",
     "output_type": "stream",
     "text": [
      "d:\\softwares\\miniconda3\\envs\\aiha\\Lib\\site-packages\\transformers\\tokenization_utils_base.py:1601: FutureWarning: `clean_up_tokenization_spaces` was not set. It will be set to `True` by default. This behavior will be depracted in transformers v4.45, and will be then set to `False` by default. For more details check this issue: https://github.com/huggingface/transformers/issues/31884\n",
      "  warnings.warn(\n"
     ]
    }
   ],
   "source": [
    "from src.retrievers.default import DefaultRetriever\n",
    "\n",
    "retriever = DefaultRetriever()"
   ]
  },
  {
   "cell_type": "code",
   "execution_count": 2,
   "id": "392cb2c1",
   "metadata": {},
   "outputs": [],
   "source": [
    "query = {\n",
    "    \"content\": \"What is porcelain made of?\",\n",
    "    \"metadata\": {\n",
    "        \"type\": \"text\"\n",
    "    }\n",
    "}"
   ]
  },
  {
   "cell_type": "code",
   "execution_count": 3,
   "id": "58485895",
   "metadata": {},
   "outputs": [],
   "source": [
    "res = retriever.process(query)"
   ]
  },
  {
   "cell_type": "code",
   "execution_count": 13,
   "id": "c34c363b",
   "metadata": {},
   "outputs": [
    {
     "data": {
      "text/plain": [
       "MergedResult(id='u8e6fl7i', content='In the West, the term porcelain refers specifically to white ceramics made with a special type of clay called kaolin and fired to a temperature of about $1300^{\\\\circ}\\\\mathrm{C}$ , which results in a translucent, glassy material that makes a ringing sound when struck.', metadata={'content': 'In the West, the term porcelain refers specifically to white ceramics made with a special type of clay called kaolin and fired to a temperature of about $1300^{\\\\circ}\\\\mathrm{C}$ , which results in a translucent, glassy material that makes a ringing sound when struck.', 'page_idx': 5.0, 'section_id': 'cdr9u9eb', 'type': 'text', 'sparse_rank': 0}, dense_score=None, sparse_score=1.0, final_score=0.7, sources=['sparse'])"
      ]
     },
     "execution_count": 13,
     "metadata": {},
     "output_type": "execute_result"
    }
   ],
   "source": [
    "res[0]"
   ]
  },
  {
   "cell_type": "code",
   "execution_count": 6,
   "id": "7b6cb66f",
   "metadata": {},
   "outputs": [],
   "source": [
    "from pinecone import Pinecone\n",
    "import os\n",
    "from dotenv import load_dotenv, find_dotenv\n",
    "load_dotenv(find_dotenv())\n",
    "\n",
    "pinecone = Pinecone(api_key=os.environ.get(\"PINECONE_API_KEY\"))\n",
    "dense_db = pinecone.Index(\"museum-ai-dense\")\n",
    "sparse_db = pinecone.Index(\"museum-ai-sparse\")"
   ]
  },
  {
   "cell_type": "code",
   "execution_count": 20,
   "id": "3f8e5f81",
   "metadata": {},
   "outputs": [],
   "source": [
    "section_data = dense_db.query(\n",
    "    namespace=\"umag\",\n",
    "    vector=[0] * 512,\n",
    "    filter={\n",
    "        \"section_id\": {\"$eq\": \"rukvggxl\"}\n",
    "    },\n",
    "    top_k=999,\n",
    "    include_metadata=True,\n",
    "    include_values=False\n",
    ")"
   ]
  },
  {
   "cell_type": "code",
   "execution_count": 21,
   "id": "f93533d7",
   "metadata": {},
   "outputs": [
    {
     "data": {
      "text/plain": [
       "{'matches': [{'id': 'bannwqjd',\n",
       "              'metadata': {'img_path': 'd:\\\\HKU\\\\Inno Wing RA\\\\UBC '\n",
       "                                       'Exchange\\\\code\\\\output\\\\Objectifying_China\\\\preprocessed\\\\../auto/images/1b8074c49dde258c2eddbf33130e7816af3f0cb875967df1da0f424e973a1871.jpg',\n",
       "                           'page_idx': 0.0,\n",
       "                           'section_id': 'rukvggxl',\n",
       "                           'type': 'image'},\n",
       "              'score': 0.0,\n",
       "              'values': []},\n",
       "             {'id': 'xofdmhbj',\n",
       "              'metadata': {'content': 'Objectifying China   \\n'\n",
       "                                      'Ming and Qing Dynasty Ceramics and   \\n'\n",
       "                                      'Their Stylistic Influences Abroad',\n",
       "                           'page_idx': 2.0,\n",
       "                           'section_id': 'rukvggxl',\n",
       "                           'type': 'text'},\n",
       "              'score': 0.0,\n",
       "              'values': []},\n",
       "             {'id': 'lc41uuti',\n",
       "              'metadata': {'content': 'Objectifying China Mainndg  Tanhdei rQ '\n",
       "                                      'Sitnygl isDtiycn Ianstfly uCenercaesm '\n",
       "                                      'iAcsb road',\n",
       "                           'page_idx': 0.0,\n",
       "                           'section_id': 'rukvggxl',\n",
       "                           'type': 'text'},\n",
       "              'score': 0.0,\n",
       "              'values': []},\n",
       "             {'id': 'x8kp18hr',\n",
       "              'metadata': {'img_path': 'd:\\\\HKU\\\\Inno Wing RA\\\\UBC '\n",
       "                                       'Exchange\\\\code\\\\output\\\\Objectifying_China\\\\preprocessed\\\\../auto/images/5c2faa7ee9d983cd16db3582c12d2c9013b7de49c7183b56c030e3ad83fbbf4b.jpg',\n",
       "                           'page_idx': 1.0,\n",
       "                           'section_id': 'rukvggxl',\n",
       "                           'type': 'image'},\n",
       "              'score': 0.0,\n",
       "              'values': []}],\n",
       " 'namespace': 'umag',\n",
       " 'usage': {'read_units': 6}}"
      ]
     },
     "execution_count": 21,
     "metadata": {},
     "output_type": "execute_result"
    }
   ],
   "source": [
    "section_data"
   ]
  },
  {
   "cell_type": "code",
   "execution_count": null,
   "id": "5aa7f23e",
   "metadata": {},
   "outputs": [],
   "source": []
  }
 ],
 "metadata": {
  "kernelspec": {
   "display_name": "aiha",
   "language": "python",
   "name": "python3"
  },
  "language_info": {
   "codemirror_mode": {
    "name": "ipython",
    "version": 3
   },
   "file_extension": ".py",
   "mimetype": "text/x-python",
   "name": "python",
   "nbconvert_exporter": "python",
   "pygments_lexer": "ipython3",
   "version": "3.11.13"
  }
 },
 "nbformat": 4,
 "nbformat_minor": 5
}
