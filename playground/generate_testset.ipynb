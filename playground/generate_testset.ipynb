{
 "cells": [
  {
   "cell_type": "code",
   "execution_count": null,
   "id": "5b7f3829",
   "metadata": {},
   "outputs": [],
   "source": [
    "from src.datasets.creater import DatasetCreater\n",
    "dataset_creater = DatasetCreater()\n",
    "\n",
    "dataset = dataset_creater.create(\n",
    "    dataset_name=\"umag\",\n",
    "    data_path=r\"output\\Objectifying_China\\propositionized.json\",\n",
    "    reference_num=5,\n",
    "    question_num=10,\n",
    "    output_path=r\"output\\umag_test_dataset.json\"\n",
    ")"
   ]
  },
  {
   "cell_type": "code",
   "execution_count": null,
   "id": "960d360f",
   "metadata": {},
   "outputs": [],
   "source": [
    "from src.metrics import recall_at_k\n",
    "from src.retrievers.default import DefaultRetriever\n",
    "\n",
    "metric = recall_at_k(k=5)\n",
    "retriever = DefaultRetriever()\n",
    "\n",
    "retrieved_docs = retriever.process(\n",
    "    [{\n",
    "        \"content\": dataset[\"data\"][0][\"question\"],\n",
    "        \"metadata\": {\n",
    "            \"type\": \"text\"\n",
    "        }\n",
    "    }]\n",
    ")\n",
    "\n",
    "retrieved_context = [doc.content for doc in retrieved_docs]\n",
    "score = metric(dataset[\"data\"][0][\"reference_context\"],  retrieved_context)\n",
    "score"
   ]
  },
  {
   "cell_type": "code",
   "execution_count": null,
   "id": "8c4d6759",
   "metadata": {},
   "outputs": [],
   "source": [
    "from src.evaluators import RetrieverEvaluator\n",
    "\n",
    "evaluator = RetrieverEvaluator()\n",
    "\n",
    "results = evaluator.evaluate(dataset, retriever, {\"recall_at_5\": recall_at_k(k=5), \"recall_at_20\": recall_at_k(k=20)})\n",
    "results"
   ]
  }
 ],
 "metadata": {
  "kernelspec": {
   "display_name": "aiha",
   "language": "python",
   "name": "python3"
  },
  "language_info": {
   "codemirror_mode": {
    "name": "ipython",
    "version": 3
   },
   "file_extension": ".py",
   "mimetype": "text/x-python",
   "name": "python",
   "nbconvert_exporter": "python",
   "pygments_lexer": "ipython3",
   "version": "3.11.13"
  }
 },
 "nbformat": 4,
 "nbformat_minor": 5
}
