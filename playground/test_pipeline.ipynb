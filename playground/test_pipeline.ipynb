{
 "cells": [
  {
   "cell_type": "code",
   "execution_count": 1,
   "id": "3508fac3",
   "metadata": {},
   "outputs": [
    {
     "name": "stderr",
     "output_type": "stream",
     "text": [
      "d:\\softwares\\miniconda3\\envs\\aiha\\Lib\\site-packages\\transformers\\tokenization_utils_base.py:1601: FutureWarning: `clean_up_tokenization_spaces` was not set. It will be set to `True` by default. This behavior will be depracted in transformers v4.45, and will be then set to `False` by default. For more details check this issue: https://github.com/huggingface/transformers/issues/31884\n",
      "  warnings.warn(\n"
     ]
    }
   ],
   "source": [
    "from src.pipeline import Pipeline\n",
    "from src.query_rewriters.default import DefaultQueryRewriter\n",
    "from src.retrievers.default import DefaultRetriever\n",
    "from src.rerankers.default import DefaultReranker\n",
    "from src.prompt_builders.default import DefaultPromptBuilder\n",
    "from src.generators.default import DefaultGenerator\n",
    "from src.speakers.default import DefaultSpeaker\n",
    "\n",
    "query_rewriter = DefaultQueryRewriter()\n",
    "retriever = DefaultRetriever()\n",
    "reranker = DefaultReranker()\n",
    "prompt_builder = DefaultPromptBuilder()\n",
    "generator = DefaultGenerator()\n",
    "speaker = DefaultSpeaker()\n",
    "\n",
    "pipe = Pipeline(\n",
    "    query_rewriter=query_rewriter,\n",
    "    retriever=retriever,\n",
    "    reranker=reranker,\n",
    "    prompt_builder=prompt_builder,\n",
    "    generator=generator,    \n",
    "    speaker=speaker\n",
    ")"
   ]
  },
  {
   "cell_type": "code",
   "execution_count": null,
   "id": "3768750d",
   "metadata": {},
   "outputs": [
    {
     "name": "stdout",
     "output_type": "stream",
     "text": [
      "Speaker: Starting audio playback (format: pcm)...\n",
      "Speaker: PCM audio playback finished.\n"
     ]
    },
    {
     "data": {
      "text/plain": [
       "{'original_query': 'How does porcelain made?',\n",
       " 'rewritten_queries': ['How does porcelain made?'],\n",
       " 'retrieved_documents': 39,\n",
       " 'ranked_documents': [{'id': 'u8e6fl7i',\n",
       "   'score': 0.7,\n",
       "   'content': 'In the West, the term porcelain refers specifically to white ceramics made with a special type of clay called kaolin and fired to a temperature of about $1300^{\\\\circ}\\\\mathrm{C}$ , which results in a translucent, glassy material that makes a ringing sound when struck.'},\n",
       "  {'id': 'xtqsi889',\n",
       "   'score': 0.5205106581251886,\n",
       "   'content': 'Made by adding high concentrations of ironoxide (usually in the form of iron filings) to the glaze during the firing process, porcelain wares of this type were referred to as ‘Batavian ware’, after the major Dutch port in Indonesia through which they were shipped.'}],\n",
       " 'prompt': '**Role:** You are \"Mira,\" the witty and enthusiast...',\n",
       " 'answer': '**Ooh, great question—you’re asking about one of humanity\\'s fanciest achievements!** 🎨✨ Porcelain has been a staple of elegance for centuries, and its *origin story* is downright impressive. Let\\'s dive in!\\n\\nPorcelain is made using a superstar clay called **kaolin**—think of it as the Beyoncé of clays, beloved for its smoothness and fine grain. Here’s the magic: The clay gets molded and then fired at an \"Are we melting yet?\" temperature of about **1300°C** 🥵. This process transforms it into a *translucent, glassy material* that has a cool party trick—it makes a ringing sound when tapped! It\\'s basically the closest humans came to making pottery that sings before karaoke machines were invented.\\n\\nNow, that\\'s fancy porcelain—but sometimes, makers get experimental! Take **‘Batavian ware,’** for example. This variation involved blending in iron oxide (yep, essentially iron filings) into the glaze before firing. The result? Gorgeous dark finishes that were shipped through Indonesia’s Batavian port (hence the name) by Dutch traders. Think of Batavian ware as porcelain\\'s \"grunge phase\"—same classy appeal, but with a moody, metallic edge.\\n\\n**Bonus nugget:** The Chinese essentially pioneered porcelain, which became so coveted that European aristocrats scrambled to replicate it. In fact, early European porcelain attempts were kind of like someone trying to bake a soufflé on their first try—lots of cracks, explosions, and frustrated potters yelling, “WHY won’t it shine like theirs?!”\\n\\n**Weird tangent alert:** Did you know that porcelain was once called \"white gold\"? Its rarity and beauty made people view it like treasure, and some rulers even built special factories just to crack the code of making it. Charlie and the Porcelain Factory, anyone?\\n\\nShould I dive into *how the Chinese mastered porcelain* or *why it wound up shaping trade routes across the globe*? Or maybe you’re curious about the quirky uses for porcelain over time?'}"
      ]
     },
     "execution_count": 2,
     "metadata": {},
     "output_type": "execute_result"
    }
   ],
   "source": [
    "pipe.run(\n",
    "    query=\"How does porcelain made?\",\n",
    ")"
   ]
  },
  {
   "cell_type": "code",
   "execution_count": null,
   "id": "ee0b7d2f",
   "metadata": {},
   "outputs": [
    {
     "name": "stdout",
     "output_type": "stream",
     "text": [
      "Speaker: Starting audio playback (format: pcm)...\n",
      "Speaker: PCM audio playback finished.\n"
     ]
    },
    {
     "data": {
      "text/plain": [
       "{'original_query': 'I see the Jug with Portuguese arms. It looks so nice. Can you tell me more about it?',\n",
       " 'rewritten_queries': ['I see the Jug with Portuguese arms. It looks so nice. Can you tell me more about it?'],\n",
       " 'retrieved_documents': 37,\n",
       " 'ranked_documents': [{'id': 'mzj11abw',\n",
       "   'score': 1.0,\n",
       "   'content': 'Jug with Portuguese arms.'},\n",
       "  {'id': 'bo151xhp',\n",
       "   'score': 0.5465399523119822,\n",
       "   'content': 'This often had strange results, such as a Dutch charger with the arms of Amsterdam inscribed ‘AMSTEL DAM’ or a porcelain ewer with the seal of Portugal painted upside down (fig.'},\n",
       "  {'id': 'e5iuula9',\n",
       "   'score': 0.5388190432287163,\n",
       "   'content': 'They were also brought to Europe via Portuguese and Dutch traders in the seventeenth century, where they were used as curiosities and decorative items rather than as functional vessels.'}],\n",
       " 'prompt': '**Role:** You are \"Mira,\" the witty and enthusiast...',\n",
       " 'answer': 'Ooh, I *love* this artifact! The Jug with Portuguese arms is like the seventeenth-century version of a collector’s item—part treasure, part conversation starter at fancy parties. Let me spill the (historical) tea on this beauty!\\n\\n### The Story  \\nThese jugs were highly decorative porcelain pieces, showcasing the *seal of Portugal*. However, here\\'s the kicker: sometimes the designs went hilariously awry. Imagine commissioning your country\\'s proud emblem, only to receive a jug where the seal was painted *upside down*! Oops. One such ewer (another type of jug) suffered this exact fate and probably gave 17th-century Portuguese traders a great story to tell.\\n\\n### Their Journey  \\nThese pieces were crafted in Asia, mainly in Chinese or Japanese porcelain workshops, and brought to Europe by Portuguese and Dutch traders during the seventeenth century. Back then, they weren’t just practical vessels for holding water—oh no, these were status symbols. Wealthy Europeans flaunted them in their homes as exotic curiosities, like having the latest piece of fashion or art. Think of them as the decorative equivalent of owning the newest iPhone, but way more delicate.\\n\\n### Bonus Fun Fact  \\nThe Dutch had their fair share of quirky mishaps, too. There’s a charger (a large plate or platter) with the arms of Amsterdam proudly labeled \"AMSTEL DAM.\" No, it’s not a typo—it’s adorably outdated branding! It’s like the historical version of an accidental autocorrect fail.\\n\\n### A Fun Twist  \\nIf you imagine these jugs trying to represent European pride while also looking slightly goofy, they’re a bit like the lovable sidekick in a historical sitcom—always supportive but occasionally tripping on their own feet.\\n\\n### Where Next?  \\nWant to hear about more curious trade artifacts? Or maybe dive into how the Portuguese and Dutch navigated global trade routes in the Age of Exploration? You\\'re in the captain\\'s seat—what\\'s the next stop on this history voyage?'}"
      ]
     },
     "execution_count": 3,
     "metadata": {},
     "output_type": "execute_result"
    }
   ],
   "source": [
    "pipe.run(\n",
    "    query=\"I see the Jug with Portuguese arms. It looks so nice. Can you tell me more about it?\",\n",
    ")"
   ]
  },
  {
   "cell_type": "code",
   "execution_count": null,
   "id": "66bb7ee7",
   "metadata": {},
   "outputs": [
    {
     "data": {
      "text/plain": [
       "<src.generators.default.DefaultGenerator at 0x26fe7130290>"
      ]
     },
     "execution_count": 4,
     "metadata": {},
     "output_type": "execute_result"
    }
   ],
   "source": [
    "generator.process(\n",
    "    \"what is the history of porcelain in China?\"\n",
    ")"
   ]
  },
  {
   "cell_type": "code",
   "execution_count": null,
   "id": "041bb609",
   "metadata": {},
   "outputs": [
    {
     "name": "stdout",
     "output_type": "stream",
     "text": [
      "Generated: The history of porcelain in China spans many centuries and is integral to the development of Chinese art and culture.\n",
      "Generated: Porcelain originated in ancient China, and its refinement over time reflects the nation’s technological advancements and creative ingenuity.\n",
      "Generated: Here's an overview of its history:\n",
      "\n",
      "---\n",
      "\n",
      "### **I.\n",
      "Generated: Origins (Pre-Porcelain Beginnings)**\n",
      "Porcelain evolved gradually from earlier pottery traditions.\n",
      "Generated: - **Shang Dynasty (1600–1046 BCE):** Early forms of ceramics were produced, primarily using low-fired clays to make vessels.\n",
      "Generated: Primitive pottery and glazed ceramics emerged during this time.\n",
      "Generated: - **Han Dynasty (206 BCE–220 CE):** Advanced kilns and technologies allowed the introduction of higher-fired ceramics, and proto-porcelain wares appeared.\n",
      "Generated: These proto-porcelains were durable and denser than ordinary pottery, thanks to the use of kaolin clay and higher firing temperatures.\n",
      "Generated: ---\n",
      "\n",
      "### **II.\n",
      "Generated: The Birth of True Porcelain**\n",
      "The development of porcelain as we know it began during the **Tang Dynasty (618–907 CE)**:\n",
      "- By the Tang era, Chinese potters mastered the ingredients and firing techniques, producing true high-fired porcelain.\n",
      "Generated: Tang porcelain was white or celadon, highly prized both domestically and abroad.\n",
      "Generated: - White porcelain was especially revered for its purity, strength, and thin walls.\n",
      "Speaker: Starting audio playback (format: pcm)...\n",
      "Generated: Tang exports of porcelain stimulated trade along the Silk Road and maritime routes.\n",
      "Generated: ---\n",
      "\n",
      "### **III.\n",
      "Speaker: Starting audio playback (format: pcm)...\n",
      "Generated: The Golden Age of Porcelain**\n",
      "The **Song Dynasty (960–1279 CE)** marked a turning point in the refinement of Chinese porcelain:\n",
      "1.\n",
      "Generated: **Technological Advances:**\n",
      "   - Song porcelain achieved remarkable sophistication, with potters focusing on subtlety and refinement in glaze and form rather than decoration.\n",
      "Generated: - Monochromatic glazes like celadon, white (ding ware), and black became the hallmark of Song porcelain.\n",
      "Speaker: Starting audio playback (format: pcm)...\n",
      "Generated: 2.\n",
      "Generated: **Regional Specialization:**\n",
      "   - Pottery-making centers such as Jingdezhen in Jiangxi province became famous for their porcelain.\n",
      "Generated: - Northern kilns produced exquisite white porcelain, while southern kilns developed celadon ware that resembled jade.\n",
      "Generated: 3.\n",
      "Generated: **Artistic Impact:**\n",
      "   - Song porcelain embodied the minimalist aesthetics of Song dynasty culture, emphasizing simplicity, harmony, and craftsmanship.\n",
      "Generated: ---\n",
      "\n",
      "### **IV.\n",
      "Generated: Expansion and Export**\n",
      "During the **Yuan Dynasty (1271–1368 CE)**, porcelain production became standardized, paving the way for large-scale export under Mongol rule:\n",
      "- Decorative elements, such as underglaze blue (using imported cobalt), emerged and influenced later porcelain styles.\n",
      "Generated: - Chinese porcelain began to gain global demand, reaching markets in the Middle East, Southeast Asia, and eventually Europe.\n",
      "Generated: ---\n",
      "\n",
      "### **V.\n",
      "Generated: Perfection under the Ming Dynasty (1368–1644 CE)**\n",
      "The Ming Dynasty is considered the zenith of porcelain innovation:\n",
      "1.Speaker: PCM audio playback finished.\n",
      "Speaker: Starting audio playback (format: pcm)...\n",
      "Speaker: PCM audio playback finished.\n",
      "Speaker: Starting audio playback (format: pcm)...\n",
      "Speaker: PCM audio playback finished.\n",
      "Speaker: Starting audio playback (format: pcm)...\n",
      "Speaker: PCM audio playback finished.\n"
     ]
    }
   ],
   "source": [
    "from src.generators.default import DefaultGenerator\n",
    "from src.speakers.default import DefaultSpeaker\n",
    "from concurrent.futures import ThreadPoolExecutor\n",
    "import threading\n",
    "\n",
    "generator = DefaultGenerator()\n",
    "speaker = DefaultSpeaker()\n",
    "\n",
    "# 使用线程池来异步播放音频\n",
    "with ThreadPoolExecutor(max_workers=3) as executor:\n",
    "    futures = []\n",
    "    for chunk in generator.process(\"what is the history of porcelain in China?\"):\n",
    "        print(f\"Generated: {chunk}\")\n",
    "        # 异步提交音频播放任务\n",
    "        future = executor.submit(speaker.process, chunk)\n",
    "        futures.append(future)\n",
    "    \n",
    "    # 等待所有音频播放完成\n",
    "    for future in futures:\n",
    "        future.result()"
   ]
  },
  {
   "cell_type": "code",
   "execution_count": null,
   "id": "a60b45d7",
   "metadata": {},
   "outputs": [],
   "source": []
  }
 ],
 "metadata": {
  "kernelspec": {
   "display_name": "aiha",
   "language": "python",
   "name": "python3"
  },
  "language_info": {
   "codemirror_mode": {
    "name": "ipython",
    "version": 3
   },
   "file_extension": ".py",
   "mimetype": "text/x-python",
   "name": "python",
   "nbconvert_exporter": "python",
   "pygments_lexer": "ipython3",
   "version": "3.11.13"
  }
 },
 "nbformat": 4,
 "nbformat_minor": 5
}
