{
 "cells": [
  {
   "cell_type": "code",
   "execution_count": null,
   "metadata": {},
   "outputs": [],
   "source": [
    "from src.pipeline import Pipeline\n",
    "from src.query_rewriters.default import DefaultQueryRewriter\n",
    "from src.retrievers.default import DefaultRetriever\n",
    "from src.rerankers.default import DefaultReranker\n",
    "from src.prompt_builders.default import DefaultPromptBuilder\n",
    "from src.generators.default import DefaultGenerator\n",
    "from src.speakers.default import DefaultSpeaker\n",
    "\n",
    "query_rewriter = DefaultQueryRewriter()\n",
    "retriever = DefaultRetriever()\n",
    "reranker = DefaultReranker()\n",
    "prompt_builder = DefaultPromptBuilder()\n",
    "generator = DefaultGenerator()"
   ]
  },
  {
   "cell_type": "code",
   "execution_count": null,
   "metadata": {},
   "outputs": [],
   "source": []
  }
 ],
 "metadata": {
  "language_info": {
   "name": "python"
  }
 },
 "nbformat": 4,
 "nbformat_minor": 2
}
