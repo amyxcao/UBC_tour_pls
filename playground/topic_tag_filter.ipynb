{
 "cells": [
  {
   "cell_type": "code",
   "execution_count": null,
   "metadata": {},
   "outputs": [],
   "source": [
    "import os\n",
    "import dotenv\n",
    "dotenv.load_dotenv()\n",
    "\n",
    "azure_configs = {\n",
    "    \"base_url\": \"https://openai-ai-museum.openai.azure.com/\", \n",
    "    \"embedding_deployment\": \"text-embedding-3-large\",\n",
    "    \"embedding_name\": \"text-embedding-3-large\",\n",
    "    \"model_name\": \"gpt-4o\",\n",
    "    \"api_version\": \"2024-10-21\",  \n",
    "    \"model_deployment\": \"gpt-4o\",\n",
    "}\n",
    "\n",
    "from langchain_openai.chat_models import AzureChatOpenAI\n",
    "from langchain_openai.embeddings import AzureOpenAIEmbeddings\n",
    "from ragas import evaluate\n",
    "\n",
    "azure_model = AzureChatOpenAI(\n",
    "    openai_api_version=\"2023-05-15\",\n",
    "    azure_endpoint=azure_configs[\"base_url\"],\n",
    "    azure_deployment=azure_configs[\"model_deployment\"],\n",
    "    model=azure_configs[\"model_name\"],\n",
    "    validate_base_url=False,\n",
    ")\n",
    "\n",
    "# init the embeddings for answer_relevancy, answer_correctness and answer_similarity\n",
    "azure_embeddings = AzureOpenAIEmbeddings(\n",
    "    openai_api_version=\"2023-05-15\",\n",
    "    azure_endpoint=azure_configs[\"base_url\"],\n",
    "    azure_deployment=azure_configs[\"embedding_deployment\"],\n",
    "    model=azure_configs[\"embedding_name\"],\n",
    ")\n"
   ]
  },
  {
   "cell_type": "code",
   "execution_count": null,
   "metadata": {},
   "outputs": [
    {
     "data": {
      "text/plain": [
       "0.47250097807246716"
      ]
     },
     "execution_count": 3,
     "metadata": {},
     "output_type": "execute_result"
    }
   ],
   "source": [
    "\n",
    "from ragas.dataset_schema import SingleTurnSample\n",
    "from ragas.metrics import SemanticSimilarity\n",
    "from ragas.embeddings import LangchainEmbeddingsWrapper\n",
    "\n",
    "sample = SingleTurnSample(\n",
    "    response=\"Tell me about a cermanic from the Ming dynasty.\",\n",
    "    reference=\"With large flaring mouths, vessels of this shape resemble inverted bells and are commonly referred to as ‘chime-type cups’. Popular throughout the Ming and Qing dynasties, this pair was made during the reign of the Jiajing emperor. In keeping with the emperor's interest in auspicious symbolism, the three goats and suns surrounded by prunus, pine and bamboo trees are another example of the use of homophones in the Chinese language to create visual puns. The goats and suns (both pronounced yang) form a rebus that refers to a passage from the I Ching (‘The Book of Changes’): “the first month of the year is the Trigram of Tai, after which three suns rise”. The passage denotes the passing of seasons as winter (associated with the cosmic force of yin) ends and spring (associated with yang) arrives, and carries an auspicious message of renewal.\"\n",
    ")\n",
    "\n",
    "scorer = SemanticSimilarity(embeddings=LangchainEmbeddingsWrapper(azure_embeddings))\n",
    "await scorer.single_turn_ascore(sample)"
   ]
  },
  {
   "cell_type": "code",
   "execution_count": null,
   "metadata": {},
   "outputs": [
    {
     "data": {
      "text/plain": [
       "0.41858948759728504"
      ]
     },
     "execution_count": 4,
     "metadata": {},
     "output_type": "execute_result"
    }
   ],
   "source": [
    "sample = SingleTurnSample(\n",
    "    response=\"Tell me about a painting from the Song dynasty.\",\n",
    "    reference=\"With large flaring mouths, vessels of this shape resemble inverted bells and are commonly referred to as ‘chime-type cups’. Popular throughout the Ming and Qing dynasties, this pair was made during the reign of the Jiajing emperor. In keeping with the emperor's interest in auspicious symbolism, the three goats and suns surrounded by prunus, pine and bamboo trees are another example of the use of homophones in the Chinese language to create visual puns. The goats and suns (both pronounced yang) form a rebus that refers to a passage from the I Ching (‘The Book of Changes’): “the first month of the year is the Trigram of Tai, after which three suns rise”. The passage denotes the passing of seasons as winter (associated with the cosmic force of yin) ends and spring (associated with yang) arrives, and carries an auspicious message of renewal.\"\n",
    ")\n",
    "\n",
    "scorer = SemanticSimilarity(embeddings=LangchainEmbeddingsWrapper(azure_embeddings))\n",
    "await scorer.single_turn_ascore(sample)"
   ]
  },
  {
   "cell_type": "code",
   "execution_count": null,
   "metadata": {},
   "outputs": [
    {
     "data": {
      "text/plain": [
       "0.0"
      ]
     },
     "execution_count": 5,
     "metadata": {},
     "output_type": "execute_result"
    }
   ],
   "source": [
    "from ragas.dataset_schema import SingleTurnSample\n",
    "from ragas.metrics import NonLLMContextRecall\n",
    "\n",
    "sample = SingleTurnSample(\n",
    "    retrieved_contexts=[\"With large flaring mouths, vessels of this shape resemble inverted bells and are commonly referred to as ‘chime-type cups’. Popular throughout the Ming and Qing dynasties, this pair was made during the reign of the Jiajing emperor. In keeping with the emperor's interest in auspicious symbolism, the three goats and suns surrounded by prunus, pine and bamboo trees are another example of the use of homophones in the Chinese language to create visual puns. The goats and suns (both pronounced yang) form a rebus that refers to a passage from the I Ching (‘The Book of Changes’): “the first month of the year is the Trigram of Tai, after which three suns rise”. The passage denotes the passing of seasons as winter (associated with the cosmic force of yin) ends and spring (associated with yang) arrives, and carries an auspicious message of renewal.\"], \n",
    "    reference_contexts=[\"The golden pheasant on this kesi was woven with nearly twenty variously coloured wefts to illustrate its colourful plumage, including a golden crest and rump, purplered body and a long tail in orange and dark brown. The coloured variation for its body was achieved with the chanheqiang (‘blend propping’) technique. As one of the weaving techniques used to express the gradation of colours from dark to light, it is distinguished by the smooth and flexible overlapping of variations in colour. The blending of colour blocks often moves vertically from top to bottom, or bottom to top. In another technique known as guan (‘flinging’), two or more similarly coloured wefts are woven continuously according to the silhouette of patterns so as to achieve the gradation. The wefts of each block do not overlap and often appear to pile up layer upon layer. These were applied to imitate the colourful layers and texture of the wings’ feathers, from dark brown to brown and light brown.\"]\n",
    ")\n",
    "\n",
    "context_recall = NonLLMContextRecall()\n",
    "await context_recall.single_turn_ascore(sample)"
   ]
  },
  {
   "cell_type": "code",
   "execution_count": null,
   "metadata": {},
   "outputs": [
    {
     "data": {
      "text/plain": [
       "0.0"
      ]
     },
     "execution_count": 7,
     "metadata": {},
     "output_type": "execute_result"
    }
   ],
   "source": [
    "from ragas.dataset_schema import SingleTurnSample\n",
    "from ragas.metrics import NonLLMContextRecall\n",
    "\n",
    "sample = SingleTurnSample(\n",
    "    retrieved_contexts=[\"With large flaring mouths, vessels of this shape resemble inverted bells and are commonly referred to as ‘chime-type cups’. Popular throughout the Ming and Qing dynasties, this pair was made during the reign of the Jiajing emperor. In keeping with the emperor's interest in auspicious symbolism, the three goats and suns surrounded by prunus, pine and bamboo trees are another example of the use of homophones in the Chinese language to create visual puns. The goats and suns (both pronounced yang) form a rebus that refers to a passage from the I Ching (‘The Book of Changes’): “the first month of the year is the Trigram of Tai, after which three suns rise”. The passage denotes the passing of seasons as winter (associated with the cosmic force of yin) ends and spring (associated with yang) arrives, and carries an auspicious message of renewal.\"], \n",
    "    reference_contexts=[\"Made in Meissen, the centre of porcelain production near Dresden, this tea bowl and saucer demonstrates the popularity of Dehua porcelain in Europe during the first half of the eighteenth century. Like Chinese porcelain, Meissen ware is hard-paste porcelain, which more closely duplicates the glassy surface of blanc de Chine than earlier European soft-paste porcelain. The moulded prunus branches on the tea bowl were a popular Dehua motif widely emulated on Western porcelain. Motifs were sometimes altered as they were taken up in the West; the vegetation on the saucer more closely resembles grape vines.\"],\n",
    ")\n",
    "\n",
    "context_recall = NonLLMContextRecall()\n",
    "await context_recall.single_turn_ascore(sample)"
   ]
  },
  {
   "cell_type": "code",
   "execution_count": null,
   "metadata": {},
   "outputs": [
    {
     "data": {
      "text/plain": [
       "0.0"
      ]
     },
     "execution_count": 8,
     "metadata": {},
     "output_type": "execute_result"
    }
   ],
   "source": [
    "from ragas.dataset_schema import SingleTurnSample\n",
    "from ragas.metrics import NonLLMContextRecall\n",
    "\n",
    "sample = SingleTurnSample(\n",
    "    retrieved_contexts=[\"With large flaring mouths, vessels of this shape resemble inverted bells and are commonly referred to as ‘chime-type cups’. Popular throughout the Ming and Qing dynasties, this pair was made during the reign of the Jiajing emperor. In keeping with the emperor's interest in auspicious symbolism, the three goats and suns surrounded by prunus, pine and bamboo trees are another example of the use of homophones in the Chinese language to create visual puns. The goats and suns (both pronounced yang) form a rebus that refers to a passage from the I Ching (‘The Book of Changes’): “the first month of the year is the Trigram of Tai, after which three suns rise”. The passage denotes the passing of seasons as winter (associated with the cosmic force of yin) ends and spring (associated with yang) arrives, and carries an auspicious message of renewal.\"], \n",
    "    reference_contexts=[\"China (Ming dynasty), Jiajing period, 1545, or 19th century Porcelain with underglaze blue, 31 x 30 cm HKU.C.1992.0967 Large jars of this shape, called guan, were used for the storage of wine. Oversized examples with extremely fine painting also had an additional ornamental function, and were occasionally used to decorate imperial palace grounds. They were popular export items to the Middle East and Southeast Asia in the fourteenth century, with comparable jars preserved in the Ardabil Shrine, Iran, and Wat Mahathat, a temple in Lamphun, Thailand. An inscription at the centre locates the production of this jar to Jingdezhen in the 24th year of the reign of the Jiajing emperor (1545)\\u2014although similar jars were imitated well into the nineteenth century. Blue-and-white guan jars evolved significantly over the course of the Yuan and Ming dynasties. The neck of this guan is significantly wider than most fourteenth-century examples, which also had lower shoulders, sometimes with small handles attached. The banded floral decoration is typical of the mid-Ming period, although vessels painted with peacocks\\u2014a symbol of beauty, power and the Ming court\\u2014are more unusual. Jingdezhen, China (Ming dynasty), Jiajing period, 1522\\u20131566 Porcelain with underglaze blue, height 10.5 cm HKU.C.1957.0196 mathrm{~x~}30$ HKU.C.1992.0967\"],\n",
    ")\n",
    "\n",
    "context_recall = NonLLMContextRecall()\n",
    "await context_recall.single_turn_ascore(sample)"
   ]
  },
  {
   "cell_type": "code",
   "execution_count": null,
   "metadata": {},
   "outputs": [],
   "source": []
  }
 ],
 "metadata": {
  "kernelspec": {
   "display_name": "aiha",
   "language": "python",
   "name": "python3"
  },
  "language_info": {
   "codemirror_mode": {
    "name": "ipython",
    "version": 3
   },
   "file_extension": ".py",
   "mimetype": "text/x-python",
   "name": "python",
   "nbconvert_exporter": "python",
   "pygments_lexer": "ipython3",
   "version": "3.11.13"
  }
 },
 "nbformat": 4,
 "nbformat_minor": 2
}
