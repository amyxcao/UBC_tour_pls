{
 "cells": [
  {
   "cell_type": "code",
   "execution_count": 40,
   "metadata": {},
   "outputs": [],
   "source": [
    "import json\n",
    "import itertools\n",
    "import numpy as np\n",
    "from pathlib import Path\n",
    "\n",
    "def extract_labels(entry):\n",
    "    keys_to_check = [\n",
    "        \"time_period\", \"materiality\", \"region\", \"colour\",\n",
    "        \"purpose\", \"themes\",\n",
    "    ]\n",
    "    labels = set()\n",
    "    for key in keys_to_check:\n",
    "        labels.update(entry.get(key, []))\n",
    "    return labels\n",
    "\n",
    "def compute_jaccard(set1, set2):\n",
    "    intersection = set1 & set2\n",
    "    union = set1 | set2\n",
    "    return len(intersection) / len(union) if union else 1.0\n",
    "\n",
    "def load_files(file_paths):\n",
    "    data_by_file = {}\n",
    "    for path in file_paths:\n",
    "        with open(path, \"r\") as f:\n",
    "            data_by_file[path.name] = json.load(f)\n",
    "    return data_by_file\n",
    "\n",
    "def compute_jaccard_stats(data_by_file):\n",
    "    file_names = list(data_by_file.keys())\n",
    "    ids = list(data_by_file[file_names[0]].keys())  # Assumes all files have same IDs\n",
    "    results = {}\n",
    "\n",
    "    for id_ in ids:\n",
    "        label_sets = {\n",
    "            fname: extract_labels(data_by_file[fname][id_])\n",
    "            for fname in file_names\n",
    "        }\n",
    "\n",
    "        scores = []\n",
    "        for f1, f2 in itertools.combinations(file_names, 2):\n",
    "            score = compute_jaccard(label_sets[f1], label_sets[f2])\n",
    "            scores.append(score)\n",
    "\n",
    "        mean_score = float(np.mean(scores))\n",
    "        std_score = float(np.std(scores))\n",
    "        results[id_] = {\n",
    "            \"mean_jaccard\": round(mean_score, 4),\n",
    "            # \"std_jaccard\": round(std_score, 4),\n",
    "            \"num_pairs\": len(scores)\n",
    "        }\n",
    "\n",
    "    return results\n",
    "\n",
    "# Example usage\n",
    "def main(folder_path):\n",
    "    file_paths = list(Path(folder_path).glob(\"*.json\"))\n",
    "    data_by_file = load_files(file_paths)\n",
    "    results = compute_jaccard_stats(data_by_file)\n",
    "    return results\n",
    "\n",
    "# Call main with a folder path:\n",
    "input_file = \"output/Objectifying_China/tagged/test_seeds_no_explain/temp1.2\"\n",
    "final_results = main(input_file)\n",
    "results = json.dumps(final_results, indent=2)\n"
   ]
  },
  {
   "cell_type": "code",
   "execution_count": 41,
   "metadata": {},
   "outputs": [
    {
     "name": "stdout",
     "output_type": "stream",
     "text": [
      "mean of the mean score: 0.8119846153846152\n",
      "std of the std score: 0.11473438788486043\n"
     ]
    }
   ],
   "source": [
    "# total_score = 0\n",
    "# for item in final_results.values(): \n",
    "#     total_score += item[\"mean_jaccard\"]\n",
    "\n",
    "print(f\"mean of the mean score: {np.mean([item['mean_jaccard'] for item in final_results.values()])}\")\n",
    "print(f\"std of the std score: {np.std([item['mean_jaccard'] for item in final_results.values()])}\")\n"
   ]
  },
  {
   "cell_type": "code",
   "execution_count": 5,
   "metadata": {},
   "outputs": [
    {
     "data": {
      "text/plain": [
       "{'lnwpgxpl': {'mean_jaccard': 0.9048, 'std_jaccard': 0.0673, 'num_pairs': 3},\n",
       " 'a8s3x6t7': {'mean_jaccard': 0.9259, 'std_jaccard': 0.0524, 'num_pairs': 3},\n",
       " 'vc5p22wp': {'mean_jaccard': 1.0, 'std_jaccard': 0.0, 'num_pairs': 3},\n",
       " 'qb4wa7zc': {'mean_jaccard': 1.0, 'std_jaccard': 0.0, 'num_pairs': 3},\n",
       " 'im6cgdm0': {'mean_jaccard': 0.8274, 'std_jaccard': 0.0552, 'num_pairs': 3},\n",
       " 'lhzzzkix': {'mean_jaccard': 0.8519, 'std_jaccard': 0.1048, 'num_pairs': 3},\n",
       " 'ygehf8bq': {'mean_jaccard': 1.0, 'std_jaccard': 0.0, 'num_pairs': 3},\n",
       " 'uwcf2d0r': {'mean_jaccard': 0.8667, 'std_jaccard': 0.0943, 'num_pairs': 3},\n",
       " 'z9xpyepf': {'mean_jaccard': 0.9394, 'std_jaccard': 0.0429, 'num_pairs': 3},\n",
       " 'c9c55t0n': {'mean_jaccard': 1.0, 'std_jaccard': 0.0, 'num_pairs': 3},\n",
       " 'lhrmwftm': {'mean_jaccard': 1.0, 'std_jaccard': 0.0, 'num_pairs': 3},\n",
       " 'c49bx3b3': {'mean_jaccard': 0.9167, 'std_jaccard': 0.0589, 'num_pairs': 3},\n",
       " 'if7eszt6': {'mean_jaccard': 0.8667, 'std_jaccard': 0.0943, 'num_pairs': 3},\n",
       " 'uiilau7k': {'mean_jaccard': 0.9167, 'std_jaccard': 0.0589, 'num_pairs': 3},\n",
       " 'ifvnaoou': {'mean_jaccard': 1.0, 'std_jaccard': 0.0, 'num_pairs': 3}}"
      ]
     },
     "execution_count": 5,
     "metadata": {},
     "output_type": "execute_result"
    }
   ],
   "source": [
    "final_results"
   ]
  }
 ],
 "metadata": {
  "kernelspec": {
   "display_name": "aiha",
   "language": "python",
   "name": "python3"
  },
  "language_info": {
   "codemirror_mode": {
    "name": "ipython",
    "version": 3
   },
   "file_extension": ".py",
   "mimetype": "text/x-python",
   "name": "python",
   "nbconvert_exporter": "python",
   "pygments_lexer": "ipython3",
   "version": "3.11.13"
  }
 },
 "nbformat": 4,
 "nbformat_minor": 2
}
