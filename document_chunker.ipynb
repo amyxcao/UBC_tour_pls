{
 "cells": [
  {
   "cell_type": "code",
   "execution_count": 1,
   "metadata": {},
   "outputs": [],
   "source": [
    "import json"
   ]
  },
  {
   "cell_type": "code",
   "execution_count": 2,
   "metadata": {},
   "outputs": [],
   "source": [
    "file_path = \"output/Objectifying_China/preprocessed/en_contents_v2.json\"\n",
    "\n",
    "with open(file_path, \"r\", encoding=\"utf-8\") as file:\n",
    "    data = json.load(file)\n"
   ]
  },
  {
   "cell_type": "code",
   "execution_count": null,
   "metadata": {},
   "outputs": [],
   "source": [
    "def section_chunker(file_path): \n",
    "    \"\"\"\n",
    "    Processes a JSON file containing text and image chunks, grouping them into sections based on\n",
    "    text headers. Each section is represented as a dictionary with its ID, type, header text, and lists of text and image data.\n",
    "    Once a section is formed, all text entries are combined into one single string.\n",
    "    \"\"\"\n",
    "    import json\n",
    "\n",
    "    with open(file_path, \"r\") as f:\n",
    "        data = json.load(f)\n",
    "\n",
    "    # Flatten chunks (original order)\n",
    "    all_chunks = []\n",
    "    for chunk_list in data.values():\n",
    "        all_chunks.extend(chunk_list)\n",
    "\n",
    "    # Grouped result as a dictionary\n",
    "    grouped = {}\n",
    "    current_group = None\n",
    "\n",
    "    for chunk in all_chunks:\n",
    "        if chunk[\"type\"] == \"text\" and \"text_level\" in chunk:\n",
    "            # Store previous group, if exists, and join the text list into one string.\n",
    "            if current_group:\n",
    "                current_group[\"page_idx\"] = list(sorted(set(current_group[\"page_idx\"])))\n",
    "                current_group[\"text\"] = \" \".join(current_group[\"text\"])\n",
    "                grouped[current_group[\"id\"]] = current_group\n",
    "            \n",
    "            # Start new group\n",
    "            current_group = {\n",
    "                \"id\": chunk[\"id\"],\n",
    "                \"type\": \"section\",\n",
    "                \"header\": chunk[\"text\"],\n",
    "                \"text\": [],\n",
    "                \"page_idx\": [],\n",
    "                \"img_path\": [],\n",
    "                \"img_caption\": [],\n",
    "                \"img_footnote\": [], \n",
    "                # leave blank for topic tagging\n",
    "                # \"section_type\": [], \n",
    "                # \"time_period\": [], \n",
    "                # \"art_medium\": [],\n",
    "                # \"themes\": []\n",
    "            }\n",
    "\n",
    "        elif current_group:\n",
    "            if chunk[\"type\"] == \"text\":\n",
    "                current_group[\"text\"].append(chunk[\"text\"])\n",
    "                current_group[\"page_idx\"].append(chunk[\"page_idx\"])\n",
    "            elif chunk[\"type\"] == \"image\":\n",
    "                current_group[\"img_path\"].append(chunk[\"img_path\"])\n",
    "                current_group[\"page_idx\"].append(chunk[\"page_idx\"])\n",
    "                current_group[\"img_caption\"].extend(chunk.get(\"img_caption\", []))\n",
    "                current_group[\"img_footnote\"].extend(chunk.get(\"img_footnote\", []))\n",
    "                \n",
    "    # Save the last group if it exists, joining the text entries.\n",
    "    if current_group:\n",
    "        current_group[\"page_idx\"] = list(sorted(set(current_group[\"page_idx\"])))\n",
    "        current_group[\"text\"] = \" \".join(current_group[\"text\"])\n",
    "        grouped[current_group[\"id\"]] = current_group\n",
    "        current_group[\"exhibit\"] = \"objectifying_china\" # rename as needed\n",
    "\n",
    "    # Save as JSON\n",
    "    with open(\"en_contents_chunked.json\", \"w\") as f:\n",
    "        json.dump(grouped, f, indent=2)"
   ]
  },
  {
   "cell_type": "code",
   "execution_count": 10,
   "metadata": {},
   "outputs": [],
   "source": [
    "section_chunker(file_path)"
   ]
  },
  {
   "cell_type": "code",
   "execution_count": 5,
   "metadata": {},
   "outputs": [],
   "source": [
    "with open(\"grouped_output.json\", \"r\") as f:\n",
    "    sampled_data = json.load(f)"
   ]
  },
  {
   "cell_type": "code",
   "execution_count": null,
   "metadata": {},
   "outputs": [
    {
     "data": {
      "text/plain": [
       "{'id': 'lnwpgxpl',\n",
       " 'type': 'section',\n",
       " 'header': 'Objectifying China',\n",
       " 'text': ['Ming and Qing Dynasty Ceramics and Their Stylistic Influences Abroad'],\n",
       " 'page_idx': [3],\n",
       " 'img_path': [],\n",
       " 'img_caption': [],\n",
       " 'img_footnote': [],\n",
       " 'section_type': [],\n",
       " 'time_period': [],\n",
       " 'art_medium': [],\n",
       " 'themes': []}"
      ]
     },
     "execution_count": 50,
     "metadata": {},
     "output_type": "execute_result"
    }
   ],
   "source": [
    "sampled_data['lnwpgxpl'].update()"
   ]
  },
  {
   "cell_type": "code",
   "execution_count": 37,
   "metadata": {},
   "outputs": [],
   "source": [
    "text_sample = sampled_data[\"qwdktbdk\"][\"text\"]"
   ]
  },
  {
   "cell_type": "code",
   "execution_count": 38,
   "metadata": {},
   "outputs": [
    {
     "data": {
      "text/plain": [
       "['The Chinese term ‘ci’ (translated as porcelain in English) refers to all ceramics that are fired at high temperatures, including porcelain and stoneware.',\n",
       " 'In the West, the term porcelain refers specifically to white ceramics made with a special type of clay called kaolin and fired to a temperature of about $1300^{\\\\circ}\\\\mathrm{C}$ , which results in a translucent, glassy material that makes a ringing sound when struck.',\n",
       " 'Stoneware is used to refer to related ceramics that are similarly hard and dense, but which are made with grey or brown clay, may or may not be white-bodied, do not transmit light, and are fired to a slightly lower temperature of 1000 to $1250^{\\\\circ}\\\\mathrm{C}$ .',\n",
       " 'Ceramics fired below this temperature range are called earthenwares.',\n",
       " 'The terms ‘protoporcelain’ or ‘porcellaneous’ are sometimes used to describe early ceramics made with some of the same ingredients and physical characteristics of porcelain.']"
      ]
     },
     "execution_count": 38,
     "metadata": {},
     "output_type": "execute_result"
    }
   ],
   "source": [
    "text_sample "
   ]
  },
  {
   "cell_type": "code",
   "execution_count": 44,
   "metadata": {},
   "outputs": [],
   "source": [
    "sampled_data[\"qwdktbdk\"]['header'] = \"Porcelain\""
   ]
  },
  {
   "cell_type": "code",
   "execution_count": 45,
   "metadata": {},
   "outputs": [
    {
     "data": {
      "text/plain": [
       "'Porcelain'"
      ]
     },
     "execution_count": 45,
     "metadata": {},
     "output_type": "execute_result"
    }
   ],
   "source": [
    "sampled_data[\"qwdktbdk\"]['header']"
   ]
  },
  {
   "cell_type": "code",
   "execution_count": null,
   "metadata": {},
   "outputs": [],
   "source": []
  }
 ],
 "metadata": {
  "kernelspec": {
   "display_name": "aiha",
   "language": "python",
   "name": "python3"
  },
  "language_info": {
   "codemirror_mode": {
    "name": "ipython",
    "version": 3
   },
   "file_extension": ".py",
   "mimetype": "text/x-python",
   "name": "python",
   "nbconvert_exporter": "python",
   "pygments_lexer": "ipython3",
   "version": "3.11.13"
  }
 },
 "nbformat": 4,
 "nbformat_minor": 2
}
